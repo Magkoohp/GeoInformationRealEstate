{
 "cells": [
  {
   "cell_type": "code",
   "execution_count": null,
   "id": "handmade-production",
   "metadata": {},
   "outputs": [],
   "source": [
    "!pip install flair==0.8.0.post1"
   ]
  },
  {
   "cell_type": "code",
   "execution_count": null,
   "id": "elegant-replica",
   "metadata": {},
   "outputs": [],
   "source": [
    "import os\n",
    "import numpy as np\n",
    "import seaborn as sns\n",
    "import pandas as pd\n",
    "import matplotlib.pyplot as plt\n",
    "from matplotlib import colors\n",
    "import re\n",
    "import unicodedata\n",
    "from unidecode import unidecode\n",
    "from statistics import *\n",
    "\n",
    "import json\n",
    "\n",
    "import torch\n",
    "\n",
    "import flair\n",
    "from flair.data import Sentence, Dictionary, Corpus\n",
    "from flair.models import SequenceTagger\n",
    "from flair.datasets import ColumnCorpus, UD_ENGLISH\n",
    "from flair.trainers.language_model_trainer import LanguageModelTrainer, TextCorpus\n",
    "from flair.trainers import ModelTrainer\n",
    "from flair.embeddings import TokenEmbeddings, WordEmbeddings, StackedEmbeddings, TransformerWordEmbeddings,CharacterEmbeddings, FlairEmbeddings,BytePairEmbeddings\n",
    "\n",
    "\n",
    "\n",
    "import spacy\n"
   ]
  },
  {
   "cell_type": "markdown",
   "id": "sunset-muslim",
   "metadata": {},
   "source": [
    "<h3> BiLSTM+CRF </h3>"
   ]
  },
  {
   "cell_type": "code",
   "execution_count": null,
   "id": "minus-arbitration",
   "metadata": {},
   "outputs": [],
   "source": [
    "# TAG TO PREDICT \n",
    "tag_type = 'ner'\n",
    "\n",
    "# define columns\n",
    "columns = {0 : 'text', 1 : 'ner'}\n",
    "\n",
    "# initializing the corpus\n",
    "corpus: Corpus = ColumnCorpus('../data/BIOES-scheme/10fold-cv',columns,\n",
    "                              train_file = 'TRAIN/TRAIN_0.txt',\n",
    "                              test_file = 'TEST/TEST_0.txt')\n",
    "    \n",
    "tag_dictionary = corpus.make_tag_dictionary(tag_type=tag_type)\n",
    "\n",
    "# EMBEDDINGS\n",
    "embedding_types = [\n",
    "    \n",
    "    WordEmbeddings('../PretrainedEmbedding/w2v/word2vec.model'),\n",
    "    FlairEmbeddings('../PretrainedEmbedding/forward_flair/best-lm.pt'),\n",
    "    FlairEmbeddings('../PretrainedEmbedding/backward_flair/best-lm.pt'),\n",
    "    TransformerWordEmbeddings('camembert-base')\n",
    "]\n",
    "\n",
    "embeddings: StackedEmbeddings = StackedEmbeddings(embeddings=embedding_types)\n",
    "\n",
    "\n",
    "\n",
    "# INITIALISATION SEQUENCE TAGGER\n",
    "\n",
    "tagger: SequenceTagger = SequenceTagger(hidden_size=256,\n",
    "                                        embeddings=embeddings,\n",
    "                                        tag_dictionary=tag_dictionary,\n",
    "                                        tag_type=tag_type,\n",
    "                                        dropout = 0.2,\n",
    "                                        word_dropout = 0.05,\n",
    "                                        use_crf=True,\n",
    "                                        use_rnn=True)\n",
    "\n",
    "# INITIALISATION TRAINER\n",
    "\n",
    "trainer: ModelTrainer = ModelTrainer(tagger, corpus) #optimizer=torch.optim.Adam\n",
    "\n",
    "# START TRAINING + SAUVEGARDE\n",
    "trainer.train('../working/model/',\n",
    "              learning_rate=0.1,\n",
    "              mini_batch_size=32,\n",
    "              embeddings_storage_mode='gpu',\n",
    "              max_epochs=30)"
   ]
  }
 ],
 "metadata": {
  "kernelspec": {
   "display_name": "Python 3",
   "language": "python",
   "name": "python3"
  },
  "language_info": {
   "codemirror_mode": {
    "name": "ipython",
    "version": 3
   },
   "file_extension": ".py",
   "mimetype": "text/x-python",
   "name": "python",
   "nbconvert_exporter": "python",
   "pygments_lexer": "ipython3",
   "version": "3.6.6"
  }
 },
 "nbformat": 4,
 "nbformat_minor": 5
}
